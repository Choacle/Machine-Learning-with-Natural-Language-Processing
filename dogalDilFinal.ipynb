{
 "cells": [
  {
   "cell_type": "markdown",
   "id": "65f8a2cf",
   "metadata": {},
   "source": [
    "Hazırlanmış Dataframeyi çek"
   ]
  },
  {
   "cell_type": "code",
   "execution_count": 1,
   "id": "8eb2b3ba",
   "metadata": {},
   "outputs": [
    {
     "data": {
      "text/html": [
       "<div>\n",
       "<style scoped>\n",
       "    .dataframe tbody tr th:only-of-type {\n",
       "        vertical-align: middle;\n",
       "    }\n",
       "\n",
       "    .dataframe tbody tr th {\n",
       "        vertical-align: top;\n",
       "    }\n",
       "\n",
       "    .dataframe thead th {\n",
       "        text-align: right;\n",
       "    }\n",
       "</style>\n",
       "<table border=\"1\" class=\"dataframe\">\n",
       "  <thead>\n",
       "    <tr style=\"text-align: right;\">\n",
       "      <th></th>\n",
       "      <th>Unnamed: 0</th>\n",
       "      <th>Texts</th>\n",
       "      <th>Type</th>\n",
       "    </tr>\n",
       "  </thead>\n",
       "  <tbody>\n",
       "    <tr>\n",
       "      <th>0</th>\n",
       "      <td>0</td>\n",
       "      <td>yıldır kullanıyorum  memnunum</td>\n",
       "      <td>0</td>\n",
       "    </tr>\n",
       "    <tr>\n",
       "      <th>1</th>\n",
       "      <td>1</td>\n",
       "      <td>yıldır kullanıyorum müthiş</td>\n",
       "      <td>0</td>\n",
       "    </tr>\n",
       "    <tr>\n",
       "      <th>2</th>\n",
       "      <td>2</td>\n",
       "      <td>ürün bugün elime geçti çok fazla inceleme fırs...</td>\n",
       "      <td>0</td>\n",
       "    </tr>\n",
       "    <tr>\n",
       "      <th>3</th>\n",
       "      <td>3</td>\n",
       "      <td>almaya karar verdim hemencecik geldi keyifle k...</td>\n",
       "      <td>0</td>\n",
       "    </tr>\n",
       "    <tr>\n",
       "      <th>4</th>\n",
       "      <td>4</td>\n",
       "      <td>günlük kullanımınızı çok çok iyi karsılıyor kı...</td>\n",
       "      <td>0</td>\n",
       "    </tr>\n",
       "    <tr>\n",
       "      <th>...</th>\n",
       "      <td>...</td>\n",
       "      <td>...</td>\n",
       "      <td>...</td>\n",
       "    </tr>\n",
       "    <tr>\n",
       "      <th>2072</th>\n",
       "      <td>2072</td>\n",
       "      <td>ballı rus pastası tarifi</td>\n",
       "      <td>2</td>\n",
       "    </tr>\n",
       "    <tr>\n",
       "      <th>2073</th>\n",
       "      <td>2073</td>\n",
       "      <td>pelmeni tarifi</td>\n",
       "      <td>2</td>\n",
       "    </tr>\n",
       "    <tr>\n",
       "      <th>2074</th>\n",
       "      <td>2074</td>\n",
       "      <td>begova çorbası tarifi</td>\n",
       "      <td>2</td>\n",
       "    </tr>\n",
       "    <tr>\n",
       "      <th>2075</th>\n",
       "      <td>2075</td>\n",
       "      <td>pita ekmeği tarifi</td>\n",
       "      <td>2</td>\n",
       "    </tr>\n",
       "    <tr>\n",
       "      <th>2076</th>\n",
       "      <td>2076</td>\n",
       "      <td>çin böreği spring rolls tarifi</td>\n",
       "      <td>2</td>\n",
       "    </tr>\n",
       "  </tbody>\n",
       "</table>\n",
       "<p>2077 rows × 3 columns</p>\n",
       "</div>"
      ],
      "text/plain": [
       "      Unnamed: 0                                              Texts  Type\n",
       "0              0                      yıldır kullanıyorum  memnunum     0\n",
       "1              1                        yıldır kullanıyorum müthiş      0\n",
       "2              2  ürün bugün elime geçti çok fazla inceleme fırs...     0\n",
       "3              3  almaya karar verdim hemencecik geldi keyifle k...     0\n",
       "4              4  günlük kullanımınızı çok çok iyi karsılıyor kı...     0\n",
       "...          ...                                                ...   ...\n",
       "2072        2072                           ballı rus pastası tarifi     2\n",
       "2073        2073                                     pelmeni tarifi     2\n",
       "2074        2074                              begova çorbası tarifi     2\n",
       "2075        2075                                 pita ekmeği tarifi     2\n",
       "2076        2076                     çin böreği spring rolls tarifi     2\n",
       "\n",
       "[2077 rows x 3 columns]"
      ]
     },
     "execution_count": 1,
     "metadata": {},
     "output_type": "execute_result"
    }
   ],
   "source": [
    "import pandas as pd\n",
    "df = pd.read_csv(\"dfNew.csv\")\n",
    "df"
   ]
  },
  {
   "cell_type": "code",
   "execution_count": 2,
   "id": "88117c15",
   "metadata": {},
   "outputs": [],
   "source": [
    "from nltk.tokenize import word_tokenize\n",
    "tokenized = [ word_tokenize(i) for i in df[\"Texts\"]]"
   ]
  },
  {
   "cell_type": "markdown",
   "id": "04568e26",
   "metadata": {},
   "source": [
    "### QUESTION 1"
   ]
  },
  {
   "cell_type": "markdown",
   "id": "15db629d",
   "metadata": {},
   "source": [
    "Word2Vec"
   ]
  },
  {
   "cell_type": "code",
   "execution_count": 3,
   "id": "74129a07",
   "metadata": {},
   "outputs": [],
   "source": [
    "from gensim.models import Word2Vec\n",
    "import warnings\n",
    "warnings.filterwarnings('ignore')\n",
    "Word2VecNOstem = Word2Vec(tokenized, min_count=3)"
   ]
  },
  {
   "cell_type": "code",
   "execution_count": 4,
   "id": "a33a3d13",
   "metadata": {},
   "outputs": [
    {
     "data": {
      "text/plain": [
       "[('değil', 0.998813807964325),\n",
       " ('çok', 0.9987935423851013),\n",
       " ('uygun', 0.9987845420837402),\n",
       " ('daha', 0.9987837076187134),\n",
       " ('olması', 0.9987736344337463),\n",
       " ('bir', 0.9987677931785583),\n",
       " ('olarak', 0.9987658858299255),\n",
       " ('oldukça', 0.9987534880638123),\n",
       " ('gibi', 0.9987496137619019),\n",
       " ('göre', 0.9987471699714661)]"
      ]
     },
     "execution_count": 4,
     "metadata": {},
     "output_type": "execute_result"
    }
   ],
   "source": [
    "Word2VecNOstem.wv.most_similar(positive=[\"güzel\",\"kullanışlı\"],negative=[\"kargo\"])"
   ]
  },
  {
   "cell_type": "markdown",
   "id": "a5e0719b",
   "metadata": {},
   "source": [
    "Türkçe Stemming"
   ]
  },
  {
   "cell_type": "code",
   "execution_count": 5,
   "id": "34a69cd5",
   "metadata": {},
   "outputs": [],
   "source": [
    "from snowballstemmer import TurkishStemmer\n",
    "turkStem=TurkishStemmer()\n",
    "StemmedWords = []\n",
    "StemmedSentences = tokenized\n",
    "count = 0\n",
    "\n",
    "for sentence in tokenized:\n",
    "    for word in sentence:\n",
    "        StemmedWords.append(turkStem.stemWord(word))\n",
    "    for i in range(len(StemmedWords)):\n",
    "        StemmedSentences[count][i] = StemmedWords[i]\n",
    "    \n",
    "    StemmedWords = []\n",
    "    count = count + 1\n",
    "\n",
    "count = 0"
   ]
  },
  {
   "cell_type": "code",
   "execution_count": 6,
   "id": "b587e1c2",
   "metadata": {},
   "outputs": [
    {
     "data": {
      "text/plain": [
       "[('gerçek', 0.9929010272026062),\n",
       " ('hepsiburadaco', 0.992763102054596),\n",
       " ('al', 0.9927240610122681),\n",
       " ('zama', 0.9926722049713135),\n",
       " ('ev', 0.9926694631576538),\n",
       " ('tavsi', 0.9926194548606873),\n",
       " ('be', 0.992576539516449),\n",
       " ('uzak', 0.9925687909126282),\n",
       " ('ba', 0.9925214052200317),\n",
       " ('ke', 0.9925079345703125)]"
      ]
     },
     "execution_count": 6,
     "metadata": {},
     "output_type": "execute_result"
    }
   ],
   "source": [
    "Word2VecYESstem = Word2Vec(StemmedSentences, min_count=3)\n",
    "Word2VecYESstem.wv.most_similar(positive=[\"geliyor\",\"gel\"],negative=[\"git\"])"
   ]
  },
  {
   "cell_type": "code",
   "execution_count": 7,
   "id": "5b03cccb",
   "metadata": {},
   "outputs": [],
   "source": [
    "#import numpy as np\n",
    "#print(np.linalg.norm(Word2VecNOstem[\"iyi\"] - Word2VecNOstem[\"geldi\"]))"
   ]
  },
  {
   "cell_type": "markdown",
   "id": "f0bfb4dd",
   "metadata": {},
   "source": [
    "FastText"
   ]
  },
  {
   "cell_type": "code",
   "execution_count": 8,
   "id": "75435891",
   "metadata": {},
   "outputs": [],
   "source": [
    "from gensim.models.fasttext import FastText"
   ]
  },
  {
   "cell_type": "code",
   "execution_count": 9,
   "id": "23fc1058",
   "metadata": {},
   "outputs": [],
   "source": [
    "ft_model = FastText(tokenized, min_count=3)"
   ]
  },
  {
   "cell_type": "code",
   "execution_count": 10,
   "id": "2645b1d7",
   "metadata": {},
   "outputs": [
    {
     "data": {
      "text/plain": [
       "[('kullanış', 0.9999741315841675),\n",
       " ('kullan', 0.9999726414680481),\n",
       " ('kullanım', 0.9999719858169556),\n",
       " ('kullanır', 0.9999715089797974),\n",
       " ('kullanıla', 0.9999709129333496),\n",
       " ('kullanan', 0.9999707937240601),\n",
       " ('kullanıslı', 0.9999707937240601),\n",
       " ('kullana', 0.9999706149101257),\n",
       " ('kullanıl', 0.999970555305481),\n",
       " ('kullandı', 0.9999700784683228)]"
      ]
     },
     "execution_count": 10,
     "metadata": {},
     "output_type": "execute_result"
    }
   ],
   "source": [
    "#Semantically similar words\n",
    "ft_model.wv.most_similar(positive=[\"güzel\",\"kullanışlı\"],negative=[\"kargo\"])"
   ]
  },
  {
   "cell_type": "markdown",
   "id": "9c966c21",
   "metadata": {},
   "source": [
    "TF IDF"
   ]
  },
  {
   "cell_type": "code",
   "execution_count": 11,
   "id": "5915a80a",
   "metadata": {},
   "outputs": [],
   "source": [
    "from gensim.models.tfidfmodel import TfidfModel"
   ]
  },
  {
   "cell_type": "code",
   "execution_count": 12,
   "id": "ea28ce09",
   "metadata": {},
   "outputs": [],
   "source": [
    "from gensim.models import TfidfModel\n",
    "from gensim.utils import simple_preprocess\n",
    "from gensim import corpora"
   ]
  },
  {
   "cell_type": "code",
   "execution_count": 13,
   "id": "435141bb",
   "metadata": {},
   "outputs": [],
   "source": [
    "mydict = corpora.Dictionary([simple_preprocess(line) for line in df[\"Texts\"]])\n",
    "corpus = [mydict.doc2bow(simple_preprocess(line)) for line in df[\"Texts\"]]\n",
    "Tfidf_model = TfidfModel(corpus)"
   ]
  },
  {
   "cell_type": "markdown",
   "id": "395fee69",
   "metadata": {},
   "source": [
    "Bag of Words (Vectorization)"
   ]
  },
  {
   "cell_type": "code",
   "execution_count": 14,
   "id": "e99a7c4f",
   "metadata": {},
   "outputs": [],
   "source": [
    "from sklearn.feature_extraction.text import CountVectorizer\n",
    "from sklearn.model_selection import train_test_split\n",
    "from sklearn.metrics import classification_report"
   ]
  },
  {
   "cell_type": "code",
   "execution_count": 15,
   "id": "adae2e63",
   "metadata": {},
   "outputs": [],
   "source": [
    "trstopwords = [\"acaba\",\"ama\",\"ancak\",\"artık\",\"asla\",\"aslında\",\"az\",\"bana\",\"bazen\",\"bazı\",\"bazıları\",\"bazısı\",\"belki\",\"ben\",\"beni\",\"benim\",\"beş\",\"bile\",\"bir\",\"birçoğu\",\"birçok\",\"birçokları\",\"biri\",\"birisi\",\"birkaç\",\"birkaçı\",\"birşey\",\"birşeyi\",\"biz\",\"bize\",\"bizi\",\"bizim\",\"böyle\",\"böylece\",\"bu\",\"buna\",\"bunda\",\"bundan\",\"bunu\",\"bunun\",\"burada\",\"bütün\",\"çoğu\",\"çoğuna\",\"çoğunu\",\"çok\",\"çünkü\",\"da\",\"daha\",\"de\",\"değil\",\"demek\",\"diğer\",\"diğeri\",\"diğerleri\",\"diye\",\"dolayı\",\"elbette\",\"en\",\"fakat\",\"falan\",\"felan\",\"filan\",\"gene\",\"gibi\",\"hangi\",\"hangisi\",\"hani\",\"hatta\",\"hem\",\"henüz\",\"hep\",\"hepsi\",\"hepsine\",\"hepsini\",\"her\",\"her biri\",\"herkes\",\"herkese\",\"herkesi\",\"hiç\",\"hiç kimse\",\"hiçbiri\",\"hiçbirine\",\"hiçbirini\",\"için\",\"içinde\",\"ile\",\"ise\",\"işte\",\"kaç\",\"kadar\",\"kendi\",\"kendine\",\"kendini\",\"ki\",\"kim\",\"kime\",\"kimi\",\"kimin\",\"kimisi\",\"madem\",\"mı\",\"mi\",\"mu\",\"mü\",\"nasıl\",\"ne\",\"ne kadar\",\"ne zaman\",\"neden\",\"nedir\",\"nerde\",\"nerede\",\"nereden\",\"nereye\",\"nesi\",\"neyse\",\"niçin\",\"niye\",\"ona\",\"ondan\",\"onlar\",\"onlara\",\"onlardan\",\"onların\",\"onu\",\"onun\",\"orada\",\"oysa\",\"oysaki\",\"öbürü\",\"ön\",\"önce\",\"ötürü\",\"öyle\",\"sana\",\"sen\",\"senden\",\"seni\",\"senin\",\"siz\",\"sizden\",\"size\",\"sizi\",\"sizin\",\"son\",\"sonra\",\"seobilog\",\"şayet\",\"şey\",\"şimdi\",\"şöyle\",\"şu\",\"şuna\",\"şunda\",\"şundan\",\"şunlar\",\"şunu\",\"şunun\",\"tabi\",\"tamam\",\"tüm\",\"tümü\",\"üzere\",\"var\",\"ve\",\"veya\",\"veyahut\",\"ya\",\"ya da\",\"yani\",\"yerine\",\"yine\",\"yoksa\",\"zaten\",\"zira\",\"kimse\",\"zaman\"]"
   ]
  },
  {
   "cell_type": "code",
   "execution_count": 16,
   "id": "14f1b237",
   "metadata": {},
   "outputs": [],
   "source": [
    "X_train, X_test, y_train, y_test = train_test_split(df.Texts, df.Type, test_size=0.25)"
   ]
  },
  {
   "cell_type": "code",
   "execution_count": 17,
   "id": "6833b4ba",
   "metadata": {},
   "outputs": [],
   "source": [
    "cv = CountVectorizer(stop_words = frozenset(trstopwords))\n",
    "X_train_BoW = cv.fit_transform(X_train.values)\n",
    "X_test_BoW = cv.transform(X_test)"
   ]
  },
  {
   "cell_type": "markdown",
   "id": "a5941ff5",
   "metadata": {},
   "source": [
    "TF IDF"
   ]
  },
  {
   "cell_type": "code",
   "execution_count": 18,
   "id": "38a275a7",
   "metadata": {},
   "outputs": [],
   "source": [
    "from sklearn.feature_extraction.text import TfidfVectorizer"
   ]
  },
  {
   "cell_type": "code",
   "execution_count": 19,
   "id": "d5899fe9",
   "metadata": {},
   "outputs": [],
   "source": [
    "tfidf_cv = TfidfVectorizer(stop_words = frozenset(trstopwords))\n",
    "X_train_Tfidf = tfidf_cv.fit_transform(X_train.values)\n",
    "X_test_Tfidf = tfidf_cv.transform(X_test)"
   ]
  },
  {
   "cell_type": "markdown",
   "id": "224dfc13",
   "metadata": {},
   "source": [
    "### QUESTION 2"
   ]
  },
  {
   "cell_type": "markdown",
   "id": "1a440786",
   "metadata": {},
   "source": [
    "KNN"
   ]
  },
  {
   "cell_type": "code",
   "execution_count": 20,
   "id": "229269b9",
   "metadata": {},
   "outputs": [],
   "source": [
    "from sklearn.neighbors import KNeighborsClassifier"
   ]
  },
  {
   "cell_type": "code",
   "execution_count": 21,
   "id": "d2a78b52",
   "metadata": {},
   "outputs": [],
   "source": [
    "knn = KNeighborsClassifier()\n",
    "\n",
    "knn_model = knn.fit(X_train_BoW,y_train)\n",
    "accuracy1 = knn_model.score(X_test_BoW,y_test)\n",
    "\n",
    "pred1 = knn_model.predict(X_test_BoW)\n",
    "result1 = pd.DataFrame(classification_report(y_test,pred1,output_dict=True))"
   ]
  },
  {
   "cell_type": "markdown",
   "id": "96718283",
   "metadata": {},
   "source": [
    "Decision Tree"
   ]
  },
  {
   "cell_type": "code",
   "execution_count": 22,
   "id": "aea1436f",
   "metadata": {},
   "outputs": [],
   "source": [
    "from sklearn.tree import DecisionTreeClassifier"
   ]
  },
  {
   "cell_type": "code",
   "execution_count": 23,
   "id": "d5fb9e3c",
   "metadata": {},
   "outputs": [],
   "source": [
    "dc = DecisionTreeClassifier()\n",
    "\n",
    "dc_model = dc.fit(X_train_BoW,y_train)\n",
    "accuracy2 = dc_model.score(X_test_BoW,y_test)\n",
    "\n",
    "pred2 = dc_model.predict(X_test_BoW)\n",
    "result2 = pd.DataFrame(classification_report(y_test,pred2,output_dict=True))"
   ]
  },
  {
   "cell_type": "markdown",
   "id": "4e23ef65",
   "metadata": {},
   "source": [
    "Random Forest"
   ]
  },
  {
   "cell_type": "code",
   "execution_count": 24,
   "id": "f0e80c6f",
   "metadata": {},
   "outputs": [],
   "source": [
    "from sklearn.ensemble import RandomForestClassifier"
   ]
  },
  {
   "cell_type": "code",
   "execution_count": 25,
   "id": "1cce20ab",
   "metadata": {},
   "outputs": [],
   "source": [
    "rf = RandomForestClassifier()\n",
    "\n",
    "rf_model = rf.fit(X_train_BoW,y_train)\n",
    "accuracy3 = rf_model.score(X_test_BoW,y_test)\n",
    "\n",
    "pred3 = rf_model.predict(X_test_BoW)\n",
    "result3 = pd.DataFrame(classification_report(y_test,pred3,output_dict=True))"
   ]
  },
  {
   "cell_type": "markdown",
   "id": "b2c2887c",
   "metadata": {},
   "source": [
    "Results into Table"
   ]
  },
  {
   "cell_type": "code",
   "execution_count": 26,
   "id": "42d0d6e0",
   "metadata": {},
   "outputs": [],
   "source": [
    "#PUTTING THE RESULTS INTO A TABLE\n",
    "#pip install tabulate\n",
    "from tabulate import tabulate\n",
    "\n",
    "Thedata = [\n",
    "    [accuracy1, result1[\"accuracy\"][\"precision\"], result1[\"accuracy\"][\"recall\"], result1[\"accuracy\"][\"f1-score\"]],\n",
    "    [accuracy2, result2[\"accuracy\"][\"precision\"], result2[\"accuracy\"][\"recall\"], result2[\"accuracy\"][\"f1-score\"]],\n",
    "    [accuracy3, result3[\"accuracy\"][\"precision\"], result3[\"accuracy\"][\"recall\"], result3[\"accuracy\"][\"f1-score\"]]]\n",
    "\n",
    "head = [\"Accuracy\",\"Precision\",\"Recall\",\"F1-Score\"]\n"
   ]
  },
  {
   "cell_type": "code",
   "execution_count": 27,
   "id": "14ba45f7",
   "metadata": {},
   "outputs": [
    {
     "name": "stdout",
     "output_type": "stream",
     "text": [
      "+------------+-------------+----------+------------+\n",
      "|   Accuracy |   Precision |   Recall |   F1-Score |\n",
      "+============+=============+==========+============+\n",
      "|   0.842308 |    0.842308 | 0.842308 |   0.842308 |\n",
      "+------------+-------------+----------+------------+\n",
      "|   0.855769 |    0.855769 | 0.855769 |   0.855769 |\n",
      "+------------+-------------+----------+------------+\n",
      "|   0.857692 |    0.857692 | 0.857692 |   0.857692 |\n",
      "+------------+-------------+----------+------------+\n"
     ]
    }
   ],
   "source": [
    "print(tabulate(Thedata, headers=head, tablefmt=\"grid\"))"
   ]
  },
  {
   "cell_type": "markdown",
   "id": "bdbfe0e8",
   "metadata": {},
   "source": [
    "Doing same things with TF IDF vectorizer"
   ]
  },
  {
   "cell_type": "markdown",
   "id": "e62c43ce",
   "metadata": {},
   "source": [
    "KNN"
   ]
  },
  {
   "cell_type": "code",
   "execution_count": 28,
   "id": "cc8aaec8",
   "metadata": {},
   "outputs": [],
   "source": [
    "knn_model = knn.fit(X_train_Tfidf,y_train)\n",
    "accuracy1 = knn_model.score(X_test_Tfidf,y_test)\n",
    "\n",
    "pred1 = knn_model.predict(X_test_Tfidf)\n",
    "result1 = pd.DataFrame(classification_report(y_test,pred1,output_dict=True))"
   ]
  },
  {
   "cell_type": "markdown",
   "id": "3cc84004",
   "metadata": {},
   "source": [
    "Decision Tree"
   ]
  },
  {
   "cell_type": "code",
   "execution_count": 29,
   "id": "8058a409",
   "metadata": {},
   "outputs": [],
   "source": [
    "dc_model = dc.fit(X_train_Tfidf,y_train)\n",
    "accuracy2 = dc_model.score(X_test_Tfidf,y_test)\n",
    "\n",
    "pred2 = dc_model.predict(X_test_Tfidf)\n",
    "result2 = pd.DataFrame(classification_report(y_test,pred2,output_dict=True))"
   ]
  },
  {
   "cell_type": "markdown",
   "id": "18ee5cb4",
   "metadata": {},
   "source": [
    "Random Forest"
   ]
  },
  {
   "cell_type": "code",
   "execution_count": 30,
   "id": "a1d4ad9e",
   "metadata": {},
   "outputs": [],
   "source": [
    "rf_model = rf.fit(X_train_Tfidf,y_train)\n",
    "accuracy3 = rf_model.score(X_test_Tfidf,y_test)\n",
    "\n",
    "pred3 = rf_model.predict(X_test_Tfidf)\n",
    "result3 = pd.DataFrame(classification_report(y_test,pred3,output_dict=True))"
   ]
  },
  {
   "cell_type": "markdown",
   "id": "2688abfd",
   "metadata": {},
   "source": [
    "Results to table"
   ]
  },
  {
   "cell_type": "code",
   "execution_count": 31,
   "id": "75eb4230",
   "metadata": {},
   "outputs": [],
   "source": [
    "Thedata = [\n",
    "    [accuracy1, result1[\"accuracy\"][\"precision\"], result1[\"accuracy\"][\"recall\"], result1[\"accuracy\"][\"f1-score\"]],\n",
    "    [accuracy2, result2[\"accuracy\"][\"precision\"], result2[\"accuracy\"][\"recall\"], result2[\"accuracy\"][\"f1-score\"]],\n",
    "    [accuracy3, result3[\"accuracy\"][\"precision\"], result3[\"accuracy\"][\"recall\"], result3[\"accuracy\"][\"f1-score\"]]]\n",
    "\n",
    "head = [\"Accuracy\",\"Precision\",\"Recall\",\"F1-Score\"]\n"
   ]
  },
  {
   "cell_type": "code",
   "execution_count": 32,
   "id": "61df6f52",
   "metadata": {},
   "outputs": [
    {
     "name": "stdout",
     "output_type": "stream",
     "text": [
      "+------------+-------------+----------+------------+\n",
      "|   Accuracy |   Precision |   Recall |   F1-Score |\n",
      "+============+=============+==========+============+\n",
      "|   0.838462 |    0.838462 | 0.838462 |   0.838462 |\n",
      "+------------+-------------+----------+------------+\n",
      "|   0.853846 |    0.853846 | 0.853846 |   0.853846 |\n",
      "+------------+-------------+----------+------------+\n",
      "|   0.857692 |    0.857692 | 0.857692 |   0.857692 |\n",
      "+------------+-------------+----------+------------+\n"
     ]
    }
   ],
   "source": [
    "print(tabulate(Thedata, headers=head, tablefmt=\"grid\"))"
   ]
  },
  {
   "cell_type": "code",
   "execution_count": null,
   "id": "413844c7",
   "metadata": {},
   "outputs": [],
   "source": []
  }
 ],
 "metadata": {
  "kernelspec": {
   "display_name": "Python 3 (ipykernel)",
   "language": "python",
   "name": "python3"
  },
  "language_info": {
   "codemirror_mode": {
    "name": "ipython",
    "version": 3
   },
   "file_extension": ".py",
   "mimetype": "text/x-python",
   "name": "python",
   "nbconvert_exporter": "python",
   "pygments_lexer": "ipython3",
   "version": "3.9.9"
  }
 },
 "nbformat": 4,
 "nbformat_minor": 5
}
